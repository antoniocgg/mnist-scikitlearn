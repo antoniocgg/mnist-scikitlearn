{
  "cells": [
    {
      "metadata": {
        "_uuid": "ba39f4a26aba9e43b7deb3a290eaea0b73a5e912"
      },
      "cell_type": "markdown",
      "source": "Are you a computing specialist?  \nWhat if you could create an algorithm to identify hand written digits, with a great precision? How many lines of code you'll need to recognize digit patterns , from zero to nine?  \nAI can do all the hard work.  We just need to feed  the system with the proper data. \nFollowing the steps below, you'll be able to solve this problem using ML and also evaluate the algorithm to choose the best classifier. \nThis  digits dataset is a ready to use small part  of a much bigger dataset."
    },
    {
      "metadata": {
        "_uuid": "8f2839f25d086af736a60e9eeb907d3b93b6e0e5",
        "_cell_guid": "b1076dfc-b9ad-4769-8c92-a6c4dae69d19",
        "trusted": true
      },
      "cell_type": "code",
      "source": "# This Python 3 environment comes with many helpful analytics libraries installed\n# It is defined by the kaggle/python docker image: https://github.com/kaggle/docker-python\n# For example, here's several helpful packages to load in \n\nimport numpy as np # linear algebra\nimport pandas as pd # data processing, CSV file I/O (e.g. pd.read_csv)\n\n# Input data files are available in the \"../input/\" directory.\n# For example, running this (by clicking run or pressing Shift+Enter) will list the files in the input directory\n\nimport os\nprint(os.listdir(\"../input\"))\n\n# Any results you write to the current directory are saved as output.",
      "execution_count": null,
      "outputs": []
    },
    {
      "metadata": {
        "_cell_guid": "79c7e3d0-c299-4dcb-8224-4455121ee9b0",
        "collapsed": true,
        "_uuid": "d629ff2d2480ee46fbb7e2d37f6b5fab8052498a",
        "trusted": false
      },
      "cell_type": "markdown",
      "source": "This dataset is inside the sklearn and is packed in a dictionary. Let's  start  and see what this dataset contais: "
    },
    {
      "metadata": {
        "trusted": true,
        "_uuid": "cf8b6af2d733d32480ba5827e255ceca0ce890b5"
      },
      "cell_type": "code",
      "source": "# import the libraries\nfrom sklearn import datasets\nimport matplotlib.pyplot as plt\nimport numpy as np\n%matplotlib inline\nimport pandas as pd\n\n# load the data\ndigits = datasets.load_digits()\npd = datasets.load_digits()\nprint('Digits dictionary content \\n{}'.format(digits.keys()))  # and see whai it is\n",
      "execution_count": null,
      "outputs": []
    },
    {
      "metadata": {
        "_uuid": "ffd9507a8833d692c721df447c500d8d48489804"
      },
      "cell_type": "markdown",
      "source": "We found:\n\n* The target names – all target names we can find. \n* Data – the 8X8 images, all flattened in to a 1-d vector of size 64X1  \n* The target of each image, for supervised learning \n* Images the 8x8 images itself.  \n* DESCR – The information of this dataset, how it was created and where, etc. "
    },
    {
      "metadata": {
        "_uuid": "32a4d1c5eb41a579aca319ea90b37aba3c2bfe21"
      },
      "cell_type": "markdown",
      "source": "Let's see how it looks like. We can do it two ways. Using the **images** themselves"
    },
    {
      "metadata": {
        "trusted": true,
        "_uuid": "aaf2803fd02c9b044cd17af58a8861146633c557"
      },
      "cell_type": "code",
      "source": "images_and_labels = list(zip(digits.images, digits.target))\nfor index, (image, label) in enumerate(images_and_labels[:4]):\n    plt.subplot(2, 4, index + 1)\n    plt.axis('off')\n    plt.imshow(image, cmap=plt.cm.gray_r, interpolation='nearest')\n    plt.title('Training: %i' % label)",
      "execution_count": null,
      "outputs": []
    },
    {
      "metadata": {
        "_uuid": "9e8156c9a04ca119587a056f1c44d13f38a4b178"
      },
      "cell_type": "markdown",
      "source": "Or using **data**. In this case we need to reshape the data. Note the results are the same"
    },
    {
      "metadata": {
        "trusted": true,
        "_uuid": "70040247ae62228e376f6aa0b1cd70fc071aa989"
      },
      "cell_type": "code",
      "source": "images_and_labels = list(zip(digits.images, digits.target))\nfor index, (data, label) in enumerate(images_and_labels[:4]):\n    imgdim=int(np.sqrt(digits.data[index].shape[0]))\n    img=np.reshape(digits.data[index],(imgdim,imgdim))\n    plt.subplot(2, 4, index + 1)\n    plt.axis('off')\n    plt.imshow(img, cmap=plt.cm.gray_r, interpolation='nearest')\n    plt.title('Training: %i' % label)",
      "execution_count": null,
      "outputs": []
    },
    {
      "metadata": {
        "_uuid": "92906ad578d4cb639abc4beb3e43f4e54bf6c43e"
      },
      "cell_type": "markdown",
      "source": "Well, after this brief investigation, let´s train some  classifiers and see how it goes.  \nTo do this, we have to split the dataset in two parts. The first part will be the Train dataset and the second part will be the Test dataset.  \nApplying our classifier to the Test dataset wich we previously know the target, will let us  know how good is it. \nTo make it easier, we'll use the train_test_split  library, where we can set the test_size parameter. "
    },
    {
      "metadata": {
        "trusted": true,
        "_uuid": "9c3b2c2996e6f2e2606cca28894ce04341d38c32"
      },
      "cell_type": "code",
      "source": "from sklearn.model_selection import train_test_split\nX_train, X_test, y_train, y_test = train_test_split(digits.data,digits.target,test_size=0.25)\nprint('Training data and target sizes: \\n{}, {}'.format(X_train.shape,y_train.shape))\nprint('Test data and target sizes: \\n{}, {}'.format(X_test.shape,y_test.shape))",
      "execution_count": null,
      "outputs": []
    },
    {
      "metadata": {
        "_uuid": "f4a4a1e04ecb99b945665748d845d561bbcfac14"
      },
      "cell_type": "markdown",
      "source": "The first classifier will be the **[Decision tree](https://en.wikipedia.org/wiki/Decision_tree)**\n"
    },
    {
      "metadata": {
        "trusted": true,
        "_uuid": "09b9b209bb5f8f9eade6334ae1f77c68ec7e1221"
      },
      "cell_type": "code",
      "source": "from sklearn import tree\nclass_tree=tree.DecisionTreeClassifier()\nclass_tree.fit(X_train, y_train)",
      "execution_count": null,
      "outputs": []
    },
    {
      "metadata": {
        "_uuid": "84dd43bf7661fda0318c3a8c9da68c1f9c5d826d"
      },
      "cell_type": "markdown",
      "source": "Let's see the accuracy of our classifier."
    },
    {
      "metadata": {
        "trusted": true,
        "_uuid": "3dcfc887268e280a6c4746fd3fbc293046d2cab4"
      },
      "cell_type": "code",
      "source": "from sklearn.metrics import accuracy_score, classification_report\ny_pred = class_tree.predict(X_test)\nprint(\"Accuracy of model = %2f%%\" % (accuracy_score(y_test, y_pred )*100))",
      "execution_count": null,
      "outputs": []
    },
    {
      "metadata": {
        "_uuid": "5eab56c2e6fac536e3bf856fd4ea5322c203e5bb"
      },
      "cell_type": "markdown",
      "source": "Around 85% without any parametrers tunning. Not bad, but let's test the accuracy of a ** [Logistic Regression](https://en.wikipedia.org/wiki/Logistic_regression)**"
    },
    {
      "metadata": {
        "trusted": true,
        "_uuid": "79f7d38ea3a72ccdd39fb1c4bcfd348251eeeb0b"
      },
      "cell_type": "code",
      "source": "from sklearn.linear_model import LogisticRegression\n\n\nclass_logistic = LogisticRegression()\nclass_logistic.fit(X_train, y_train)\n\ny_pred = class_logistic.predict(X_test)\nprint(\"Accuracy of model = %2f%%\" % (accuracy_score(y_test, y_pred )*100))",
      "execution_count": null,
      "outputs": []
    },
    {
      "metadata": {
        "_uuid": "e38a6b3b781e97f10afbae9da7c90109229d541e"
      },
      "cell_type": "markdown",
      "source": "97%, wow! Lets try another one, to see if we can make it even better.  Lets try  **[Neural Network](https://en.wikipedia.org/wiki/Artificial_neural_network)**\n\n\nCheck **[scikit-learn Multi-layer Perceptron](https://scikit-learn.org/stable/modules/generated/sklearn.neural_network.MLPClassifier.html)**\n\nIn this classifier, the input data is normalized.  In theory, it's not necessary to normalize numeric x-data (also called independent data). However, practice has shown that when numeric x-data values are normalized, neural network training is often more efficient, which leads to a better predictor"
    },
    {
      "metadata": {
        "trusted": true,
        "_uuid": "e0e3eb6147e7ffe738f5bcc0903e8f63f69976c1"
      },
      "cell_type": "code",
      "source": "from sklearn.neural_network import MLPClassifier\nfrom sklearn.preprocessing import StandardScaler\n\n#input data normalization\nscaler = StandardScaler()\nscaler.fit(X_train)\n\nX_train_scaled=scaler.transform(X_train)\nX_test_scaled=scaler.transform(X_test)\n\n\nmlp = MLPClassifier()  #default\n# Train the classifier with the traning data\nmlp.fit(X_train_scaled,y_train)\ny_pred = mlp.predict(X_test_scaled)\nprint(\"Accuracy of model = %2f%%\" % (accuracy_score(y_test, y_pred )*100))",
      "execution_count": null,
      "outputs": []
    },
    {
      "metadata": {
        "_uuid": "a848453864ff3c21a5b3273fd6cece709f6a2f6d"
      },
      "cell_type": "markdown",
      "source": "This is getting better !  Now, we gonna try the **[Multinomial naive Bayes](https://en.wikipedia.org/wiki/Naive_Bayes_classifier#Multinomial_naive_Bayes)**  classifier."
    },
    {
      "metadata": {
        "trusted": true,
        "_uuid": "290de5802cf3cf85074c5556397172ec4e261912"
      },
      "cell_type": "code",
      "source": "from sklearn.naive_bayes import MultinomialNB\n \nclassifier_naive = MultinomialNB()\nclassifier_naive.fit(X_train, y_train)\ny_pred  = classifier_naive.predict(X_test)\nprint(\"Accuracy of model = %2f%%\" % (accuracy_score(y_test, y_pred )*100))",
      "execution_count": null,
      "outputs": []
    },
    {
      "metadata": {
        "_uuid": "891027d1d9dab2d3acd217b2cb7753c1940ec807"
      },
      "cell_type": "markdown",
      "source": "Not so good, but this classifier has many advantages as low computational cost.  \nLet's try the **[K-Nearest Neighbors](https://en.wikipedia.org/wiki/K-nearest_neighbors_algorithm)** classifier"
    },
    {
      "metadata": {
        "trusted": true,
        "_uuid": "2e838d957f49774ec4398c14dd5477cf0a258e1f"
      },
      "cell_type": "code",
      "source": "from sklearn import neighbors\nknn=neighbors.KNeighborsClassifier()\nknn.fit(X_train, y_train)\ny_pred  = knn.predict(X_test)\nprint(\"Accuracy of model = %2f%%\" % (accuracy_score(y_test, y_pred )*100))",
      "execution_count": null,
      "outputs": []
    },
    {
      "metadata": {
        "_uuid": "c15d7c94d5df707d797031051a118a67e5786be1"
      },
      "cell_type": "markdown",
      "source": "99% plus! Not bad at all. This is the best classifier so far.  Lets try our last one.  **[Support Vector Machine](https://en.wikipedia.org/wiki/Support_vector_machine)** or SVM"
    },
    {
      "metadata": {
        "trusted": true,
        "_uuid": "b4e5757a048cb161a34fa3c6440fb98f145fe5a2"
      },
      "cell_type": "code",
      "source": "from sklearn import svm\nsvm_classifier = svm.SVC(gamma=0.001)  # as is in https://scikit-learn.org/stable/auto_examples/classification/plot_digits_classification.html\n#fit to the trainin data\nsvm_classifier.fit(X_train,y_train)\ny_pred = svm_classifier.predict(X_test)\n\nprint(\"Accuracy of model = %2f%%\" % (accuracy_score(y_test, y_pred )*100))",
      "execution_count": null,
      "outputs": []
    },
    {
      "metadata": {
        "_uuid": "126988a7f2fcb9fe9abbda596d2bf76a18748cb2"
      },
      "cell_type": "markdown",
      "source": "We have a Winner! Lets investigate the performance."
    },
    {
      "metadata": {
        "trusted": true,
        "_uuid": "842759cdee326b9d9605b2fd45f7b03e65087e49"
      },
      "cell_type": "code",
      "source": "from sklearn.metrics import  classification_report\nfrom sklearn import metrics\nprint(\"Classification report for classifier %s:\\n%s\\n\"\n      % (svm_classifier, metrics.classification_report(y_test, y_pred)))",
      "execution_count": null,
      "outputs": []
    },
    {
      "metadata": {
        "_uuid": "37d2fdded51166b709cb6b0e7a1c078eade0c941"
      },
      "cell_type": "markdown",
      "source": "**What does it mean?**\nprecision: is a fraction of relevant instance among the retrieved instances and is defined as: \n\n \n\nprecision=tp / (tp + fp) \n\n \n\nrecall: is the fraction of relevant instances that have been retrieved over total relevant instances in the image, and is defined as \n\n \n\nRecall= tp / (tp + fn) \n\n \n\ntp= true positives \n\nfp= false positives \n\nfn= false negatives \n\n \n\n \n\n \n\nf1-score: a mesure of accuracy. Considers precision and recall and the general formula is: \n\n \n\nF1-score= 2 X (precision X recall) / (precision + recall) \n\n \n\nReferences:  https://en.wikipedia.org/wiki/Precision_and_recall \n\nhttps://en.wikipedia.org/wiki/F1_score \n\n\n\n\nAnd, to complete our analysis, let's see the confusion matrix. The right predictions are in the main diagonal. For every value on the diagonal, the **numbers in the same line** are the **false positives** \nAnd those in the **same column** are the **false negatives** \n\nhttps://en.wikipedia.org/wiki/Confusion_matrix \n"
    },
    {
      "metadata": {
        "trusted": true,
        "_uuid": "a6f4181badba639a8245535ba1493ade53bfb56d"
      },
      "cell_type": "code",
      "source": "print(\"Confusion matrix:\\n%s\" % metrics.confusion_matrix(y_test, y_pred))",
      "execution_count": null,
      "outputs": []
    },
    {
      "metadata": {
        "_uuid": "5333533aebca255c038ad213d8eca564a59331c2"
      },
      "cell_type": "markdown",
      "source": "But wait! Data science is also about a good presentation of results. Let's improve our Confusion Matrix Visualization"
    },
    {
      "metadata": {
        "trusted": true,
        "_uuid": "ac35003286e8023e80ab7d943dab084cb04e6361"
      },
      "cell_type": "code",
      "source": "from sklearn.metrics import confusion_matrix\nimport itertools\n#function to plot the Confusion Matrix using matplotlib\ndef plot_confusion_matrix(cm, classes,\n                          normalize=False,\n                          title='Confusion matrix',\n                          cmap=plt.cm.Blues):\n    \"\"\"\n    This function prints and plots the confusion matrix.\n    Normalization can be applied by setting `normalize=True`.\n    \"\"\"\n    if normalize:\n        cm = cm.astype('float') / cm.sum(axis=1)[:, np.newaxis]\n        print(\"Normalized confusion matrix\")\n    else:\n        print('Confusion matrix, without normalization')\n\n    print(cm)\n\n    plt.imshow(cm, interpolation='nearest', cmap=cmap)\n    plt.title(title)\n    plt.colorbar()\n    tick_marks = np.arange(len(classes))\n    plt.xticks(tick_marks, classes, rotation=45)\n    plt.yticks(tick_marks, classes)\n\n    fmt = '.2f' if normalize else 'd'\n    thresh = cm.max() / 2.\n    for i, j in itertools.product(range(cm.shape[0]), range(cm.shape[1])):\n        plt.text(j, i, format(cm[i, j], fmt),\n                 horizontalalignment=\"center\",\n                 color=\"white\" if cm[i, j] > thresh else \"black\")\n\n    plt.ylabel('True label')\n    plt.xlabel('Predicted label')\n    plt.rcParams['figure.figsize'] = (12,8) # set the plot size\n    plt.rcParams['font.size']= (24)\n    plt.tight_layout()\n    \ntarget_names=digits.target_names \ncnf_matrix=metrics.confusion_matrix(y_test, y_pred)\nplt.figure()\nplot_confusion_matrix(cnf_matrix, classes=target_names,\n                      title='Confusion matrix, without normalization')\nplt.show()",
      "execution_count": null,
      "outputs": []
    },
    {
      "metadata": {
        "_uuid": "3a9aa3ae421db2191a7c361310f8448dcf22da22"
      },
      "cell_type": "markdown",
      "source": "Well, we already have our model, how can we save it for further use?\nPickle is the answer. "
    },
    {
      "metadata": {
        "trusted": true,
        "_uuid": "fa74f212c39605e4c6e9964d4931c9cb0217091e"
      },
      "cell_type": "code",
      "source": "import dill as pickle\n\n# Use pickle to save model for next usage.\nfilename = 'svmModel.pk'\nwith open('./'+filename, 'wb') as file:\n    pickle.dump(svm_classifier, file) \n    \n# # Use pickle to save model for next usage.\n#filename = 'svmModel.pk'\n#with open('./'+filename, 'wb') as file:\n#svm_classifier=pickle.load(file)\n\n#y_pred = svm_classifier.predict(X_test)  #don't need to train it anymore\n\n",
      "execution_count": null,
      "outputs": []
    }
  ],
  "metadata": {
    "kernelspec": {
      "display_name": "Python 3",
      "language": "python",
      "name": "python3"
    },
    "language_info": {
      "name": "python",
      "version": "3.6.6",
      "mimetype": "text/x-python",
      "codemirror_mode": {
        "name": "ipython",
        "version": 3
      },
      "pygments_lexer": "ipython3",
      "nbconvert_exporter": "python",
      "file_extension": ".py"
    }
  },
  "nbformat": 4,
  "nbformat_minor": 1
}